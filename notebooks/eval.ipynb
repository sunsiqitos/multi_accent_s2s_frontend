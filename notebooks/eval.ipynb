{
 "cells": [
  {
   "cell_type": "code",
   "execution_count": null,
   "id": "approved-lebanon",
   "metadata": {},
   "outputs": [],
   "source": [
    "%matplotlib inline"
   ]
  },
  {
   "cell_type": "markdown",
   "id": "comprehensive-peace",
   "metadata": {},
   "source": [
    "# Import util functions"
   ]
  },
  {
   "cell_type": "code",
   "execution_count": null,
   "id": "3d00f5c3",
   "metadata": {},
   "outputs": [],
   "source": [
    "import os, sys\n",
    "parent_dir = os.path.abspath('..')\n",
    "# the parent_dir could already be there if the kernel was not restarted,\n",
    "# and we run this cell again\n",
    "if parent_dir not in sys.path:\n",
    "    sys.path.append(parent_dir)"
   ]
  },
  {
   "cell_type": "code",
   "execution_count": null,
   "id": "adjacent-medicare",
   "metadata": {},
   "outputs": [],
   "source": [
    "from eval_utils import get_all_error_rates, analyze_ckpt, get_lexicon, get_vocab\n",
    "import os\n",
    "\n",
    "lex = get_lexicon('./lex/unilex-rpx.out')\n",
    "print('Lexicon size:', len(lex))\n",
    "\n",
    "libri960_vocab = get_vocab('./vocab/src.word.vocab')\n",
    "print('Libri960 vocab size:', len(libri960_vocab))"
   ]
  },
  {
   "cell_type": "markdown",
   "id": "latter-newsletter",
   "metadata": {},
   "source": [
    "# Validation"
   ]
  },
  {
   "cell_type": "code",
   "execution_count": null,
   "id": "copyrighted-paper",
   "metadata": {},
   "outputs": [],
   "source": [
    "ref_fn = 'pred/onmt_unilex_rpx/ref/tgt-val.txt'\n",
    "src_fn = 'pred/onmt_unilex_rpx/ref/src-val.txt'"
   ]
  },
  {
   "cell_type": "code",
   "execution_count": null,
   "id": "721cfdf1",
   "metadata": {},
   "outputs": [],
   "source": [
    "fe_rpx_r1_h512_lr5en5_beam_val_ckpts = {}\n",
    "fe_rpx_r1_h512_lr5en5_beam_val_anlys = {}\n",
    "exp_dir = 'pred/multi_rpx/fe_rpx_r1_h512_lr5e-5-May-19-2023_10+47PM-1aa9b11/'\n",
    "ckpts = fe_rpx_r1_h512_lr5en5_beam_val_ckpts\n",
    "anlys = fe_rpx_r1_h512_lr5en5_beam_val_anlys"
   ]
  },
  {
   "cell_type": "code",
   "execution_count": null,
   "id": "unable-spell",
   "metadata": {},
   "outputs": [],
   "source": [
    "pred_fn = os.path.join(exp_dir, 'output/beam_10k/rpx/src-val.ph.txt')\n",
    "ckpts[10] = get_all_error_rates(ref_fn, pred_fn, src_fn)\n",
    "anlys[10] = analyze_ckpt(ckpts[10], lex, libri960_vocab)"
   ]
  },
  {
   "cell_type": "code",
   "execution_count": null,
   "id": "c95d7be4",
   "metadata": {},
   "outputs": [],
   "source": []
  }
 ],
 "metadata": {
  "kernelspec": {
   "display_name": "Python 3 (ipykernel)",
   "language": "python",
   "name": "python3"
  },
  "language_info": {
   "codemirror_mode": {
    "name": "ipython",
    "version": 3
   },
   "file_extension": ".py",
   "mimetype": "text/x-python",
   "name": "python",
   "nbconvert_exporter": "python",
   "pygments_lexer": "ipython3",
   "version": "3.8.3"
  }
 },
 "nbformat": 4,
 "nbformat_minor": 5
}
